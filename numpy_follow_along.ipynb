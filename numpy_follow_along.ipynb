{
 "cells": [
  {
   "cell_type": "markdown",
   "id": "718b3c56",
   "metadata": {},
   "source": [
    "# NumPy Follow-Along\n",
    "Hands-on notebook to accompany today's lecture.\n",
    "\n",
    "**Goals**\n",
    "- Practice creating and manipulating NumPy arrays\n",
    "- Understand broadcasting, slicing, reshaping, and combining\n",
    "- Move between pandas and NumPy\n",
    "- Explore a simulation of *nontransitive dice* and visualize results\n"
   ]
  },
  {
   "cell_type": "markdown",
   "id": "134253cb",
   "metadata": {},
   "source": [
    "## Setup"
   ]
  },
  {
   "cell_type": "code",
   "execution_count": null,
   "id": "f685ad9f",
   "metadata": {},
   "outputs": [
    {
     "name": "stderr",
     "output_type": "stream",
     "text": [
      "Matplotlib is building the font cache; this may take a moment.\n"
     ]
    },
    {
     "name": "stdout",
     "output_type": "stream",
     "text": [
      "2.3.3\n"
     ]
    }
   ],
   "source": [
    "import numpy as np\n",
    "import pandas as pd\n",
    "# import matplotlib.pyplot as plt\n",
    "\n",
    "np.random.seed(386)  # for reproducibility; change this if you like\n",
    "print(np.__version__)"
   ]
  },
  {
   "cell_type": "markdown",
   "id": "09bfa417",
   "metadata": {},
   "source": [
    "## Creating Arrays\n",
    "Try the creation routines discussed in class:\n",
    "- `np.array`, `np.zeros`, `np.ones`, `np.full`\n",
    "- `np.arange`, `np.linspace`\n",
    "- `np.random.rand`, `np.random.randn`\n"
   ]
  },
  {
   "cell_type": "code",
   "execution_count": 3,
   "id": "7036648a",
   "metadata": {},
   "outputs": [
    {
     "name": "stdout",
     "output_type": "stream",
     "text": [
      "a: [1 2 3]\n",
      "b: [[0. 0. 0.]\n",
      " [0. 0. 0.]]\n",
      "c: [1. 1. 1. 1. 1.]\n",
      "d: [[7 7 7]\n",
      " [7 7 7]\n",
      " [7 7 7]]\n",
      "e: [0 2 4 6 8]\n",
      "f: [0.   0.25 0.5  0.75 1.  ]\n",
      "g: [[0.73820298 0.44082866]\n",
      " [0.83119324 0.10062259]]\n",
      "h: [[ 0.3312869   0.09959823]\n",
      " [-0.93937512 -0.22506129]\n",
      " [-0.14231118 -0.43709633]]\n"
     ]
    }
   ],
   "source": [
    "# Your turn — execute and modify these:\n",
    "a = np.array([1, 2, 3])\n",
    "b = np.zeros((2, 3))\n",
    "c = np.ones(5)\n",
    "d = np.full((3, 3), fill_value=7)\n",
    "e = np.arange(0, 10, 2)\n",
    "f = np.linspace(0, 1, 5)\n",
    "g = np.random.rand(2, 2)\n",
    "h = np.random.randn(3, 2)\n",
    "\n",
    "print('a:', a)\n",
    "print('b:', b)\n",
    "print('c:', c)\n",
    "print('d:', d)\n",
    "print('e:', e)\n",
    "print('f:', f)\n",
    "print('g:', g)\n",
    "print('h:', h)\n"
   ]
  },
  {
   "cell_type": "markdown",
   "id": "cf1e5694",
   "metadata": {},
   "source": [
    "## Element-wise Operations & Comparisons"
   ]
  },
  {
   "cell_type": "code",
   "execution_count": 4,
   "id": "6e59b581",
   "metadata": {},
   "outputs": [
    {
     "name": "stdout",
     "output_type": "stream",
     "text": [
      "arr + arr2 -> [11 22 33 44]\n",
      "arr * 2 -> [20 40 60 80]\n",
      "arr ** 2 -> [ 100  400  900 1600]\n",
      "arr > 15 -> [False  True  True  True]\n"
     ]
    }
   ],
   "source": [
    "arr = np.array([10, 20, 30, 40])\n",
    "arr2 = np.array([1, 2, 3, 4])\n",
    "\n",
    "print('arr + arr2 ->', arr + arr2)\n",
    "print('arr * 2 ->', arr * 2)\n",
    "print('arr ** 2 ->', arr ** 2)\n",
    "print('arr > 15 ->', arr > 15)\n"
   ]
  },
  {
   "cell_type": "markdown",
   "id": "417f0f76",
   "metadata": {},
   "source": [
    "## Broadcasting"
   ]
  },
  {
   "cell_type": "code",
   "execution_count": 4,
   "id": "7155889b",
   "metadata": {},
   "outputs": [
    {
     "name": "stdout",
     "output_type": "stream",
     "text": [
      "A shape: (2, 3) b shape: (3,)\n",
      "A + b ->\n",
      "[[11. 22. 33.]\n",
      " [14. 25. 36.]]\n"
     ]
    }
   ],
   "source": [
    "A = np.array([[1., 2., 3.],\n",
    "              [4., 5., 6.]])\n",
    "b = np.array([10., 20., 30.])\n",
    "\n",
    "print('A shape:', A.shape, 'b shape:', b.shape)\n",
    "print('A + b ->')\n",
    "print(A + b)\n"
   ]
  },
  {
   "cell_type": "markdown",
   "id": "ed1a0d05",
   "metadata": {},
   "source": [
    "## Slicing & Fancy Indexing"
   ]
  },
  {
   "cell_type": "code",
   "execution_count": 9,
   "id": "6da7a28c",
   "metadata": {},
   "outputs": [
    {
     "name": "stdout",
     "output_type": "stream",
     "text": [
      "arr: [0 1 2 3 4 5 6 7 8 9]\n",
      "arr[2:6]: [2 3 4 5]\n",
      "arr[1:9:2]: [1 3 5 7]\n",
      "\n",
      "mat:\n",
      " [[0 1 2]\n",
      " [3 4 5]\n",
      " [6 7 8]]\n",
      "mat[0:2, 1:3]:\n",
      " [[1 2]\n",
      " [4 5]]\n",
      "Fancy indexing mat[[0,2], :]:\n",
      " [[0 1 2]\n",
      " [6 7 8]]\n"
     ]
    }
   ],
   "source": [
    "arr = np.arange(10)\n",
    "print('arr:', arr)\n",
    "print('arr[2:6]:', arr[2:6])\n",
    "print('arr[1:9:2]:', arr[1:9:2])\n",
    "\n",
    "mat = np.arange(9).reshape(3, 3)\n",
    "print('\\nmat:\\n', mat)\n",
    "print('mat[0:2, 1:3]:\\n', mat[0:2, 1:3])\n",
    "\n",
    "indices = np.array([0, 2])\n",
    "print('Fancy indexing mat[[0,2], :]:\\n', mat[indices, :])\n"
   ]
  },
  {
   "cell_type": "markdown",
   "id": "f5444cf9",
   "metadata": {},
   "source": [
    "## Reshaping & Combining"
   ]
  },
  {
   "cell_type": "code",
   "execution_count": 11,
   "id": "415882c4",
   "metadata": {},
   "outputs": [
    {
     "name": "stdout",
     "output_type": "stream",
     "text": [
      "x:\n",
      " [ 0  1  2  3  4  5  6  7  8  9 10 11]\n",
      "X:\n",
      " [[ 0  1  2  3]\n",
      " [ 4  5  6  7]\n",
      " [ 8  9 10 11]]\n",
      "\n",
      "Flattened: [ 0  1  2  3  4  5  6  7  8  9 10 11]\n",
      "\n",
      "np.concatenate((A,B), axis=0):\n",
      " [[1 2]\n",
      " [3 4]\n",
      " [5 6]]\n",
      "\n",
      "np.vstack((A, C)):\n",
      " [[ 1  2]\n",
      " [ 3  4]\n",
      " [ 7  8]\n",
      " [ 9 10]]\n",
      "\n",
      "np.hstack((A, C)):\n",
      " [[ 1  2  7  8]\n",
      " [ 3  4  9 10]]\n"
     ]
    }
   ],
   "source": [
    "x = np.arange(12)\n",
    "print('x:\\n', x)\n",
    "X = np.reshape(x, (3, 4))\n",
    "print('X:\\n', X)\n",
    "\n",
    "print('\\nFlattened:', X.flatten())\n",
    "\n",
    "A = np.array([[1, 2], [3, 4]])\n",
    "B = np.array([[5, 6]])\n",
    "print('\\nnp.concatenate((A,B), axis=0):\\n', np.concatenate((A, B), axis=0))\n",
    "\n",
    "C = np.array([[7, 8], [9, 10]])\n",
    "print('\\nnp.vstack((A, C)):\\n', np.vstack((A, C)))\n",
    "print('\\nnp.hstack((A, C)):\\n', np.hstack((A, C)))\n"
   ]
  },
  {
   "cell_type": "markdown",
   "id": "7540e9d3",
   "metadata": {},
   "source": [
    "## From pandas to NumPy (and back)"
   ]
  },
  {
   "cell_type": "code",
   "execution_count": 18,
   "id": "6b4c87a2",
   "metadata": {},
   "outputs": [
    {
     "name": "stdout",
     "output_type": "stream",
     "text": [
      "   height_cm  weight_kg\n",
      "0        172         70\n",
      "1        165         60\n",
      "2        181         82\n",
      "3        190         90\n",
      "4        175         72\n",
      "\n",
      "Underlying NumPy array:\n",
      " [[172  70]\n",
      " [165  60]\n",
      " [181  82]\n",
      " [190  90]\n",
      " [175  72]]\n",
      "\n",
      "Standardized back in pandas:\n",
      "    height_cm  weight_kg\n",
      "0        172         70\n",
      "1        165         60\n",
      "2        181         82\n",
      "3        190         90\n",
      "4        175         72\n",
      "\n",
      "df == df2? True\n"
     ]
    }
   ],
   "source": [
    "df = pd.DataFrame({\n",
    "    'height_cm': [172, 165, 181, 190, 175],\n",
    "    'weight_kg': [70, 60, 82, 90, 72]\n",
    "})\n",
    "print(df)\n",
    "\n",
    "arr = df.to_numpy()\n",
    "print('\\nUnderlying NumPy array:\\n', arr)\n",
    "\n",
    "df2 = pd.DataFrame(arr, columns=df.columns)\n",
    "print('\\nStandardized back in pandas:\\n', df2)\n",
    "\n",
    "print('\\ndf == df2?', df.equals(df2))\n"
   ]
  },
  {
   "cell_type": "markdown",
   "id": "fc3886bb",
   "metadata": {},
   "source": [
    "## Quick Aggregations"
   ]
  },
  {
   "cell_type": "code",
   "execution_count": 19,
   "id": "975ffd7b",
   "metadata": {},
   "outputs": [
    {
     "name": "stdout",
     "output_type": "stream",
     "text": [
      "Column means: [176.6  74.8]\n",
      "Column stds: [ 8.45221864 10.32279032]\n",
      "Column percentiles (50th): [175.  72.]\n"
     ]
    }
   ],
   "source": [
    "print('Column means:', arr.mean(axis=0))\n",
    "print('Column stds:', arr.std(axis=0))\n",
    "print('Column percentiles (50th):', np.percentile(arr, 50, axis=0))"
   ]
  }
 ],
 "metadata": {
  "kernelspec": {
   "display_name": "numpy-demo",
   "language": "python",
   "name": "python3"
  },
  "language_info": {
   "name": "python"
  }
 },
 "nbformat": 4,
 "nbformat_minor": 5
}
